{
  "nbformat": 4,
  "nbformat_minor": 0,
  "metadata": {
    "colab": {
      "name": "Proj1_Baseline_Classifier.ipynb",
      "provenance": [],
      "collapsed_sections": [
        "EbrWQbeTQZJD",
        "sdyKQwD2Fh-0",
        "Ktdxsfpty3F2",
        "_RIMSswXywKB",
        "LCRa4z2Ct71n"
      ],
      "machine_shape": "hm",
      "mount_file_id": "1OTHbuYVEhZW95qG3HxJmJ5tuA7J6xLpM",
      "authorship_tag": "ABX9TyMT93cojDcmrXO7WCBqdAuf",
      "include_colab_link": true
    },
    "kernelspec": {
      "display_name": "Python 3",
      "name": "python3"
    },
    "accelerator": "TPU"
  },
  "cells": [
    {
      "cell_type": "markdown",
      "metadata": {
        "id": "view-in-github",
        "colab_type": "text"
      },
      "source": [
        "<a href=\"https://colab.research.google.com/github/srspratti/nlp_proj_1/blob/main/Proj1_Baseline_Classifier.ipynb\" target=\"_parent\"><img src=\"https://colab.research.google.com/assets/colab-badge.svg\" alt=\"Open In Colab\"/></a>"
      ]
    },
    {
      "cell_type": "markdown",
      "metadata": {
        "id": "3l6nEtc74sJF"
      },
      "source": [
        "# Introduction : Import and Mount Google Drive with Data"
      ]
    },
    {
      "cell_type": "code",
      "metadata": {
        "id": "miXouWaIQFX4"
      },
      "source": [
        "import pandas as pd\n",
        "import matplotlib.pyplot as plt\n",
        "import sys\n",
        "import csv\n",
        "import pandas_profiling\n",
        "from pandas_profiling import ProfileReport\n",
        "import time"
      ],
      "execution_count": 11,
      "outputs": []
    },
    {
      "cell_type": "code",
      "metadata": {
        "id": "iEW8fgRwZwC8"
      },
      "source": [
        "!pwd\n",
        "!fusermount -u drive/"
      ],
      "execution_count": null,
      "outputs": []
    },
    {
      "cell_type": "code",
      "metadata": {
        "id": "IRCSOmrKbmrd"
      },
      "source": [
        "from google.colab import drive\n",
        "drive.flush_and_unmount()"
      ],
      "execution_count": null,
      "outputs": []
    },
    {
      "cell_type": "code",
      "metadata": {
        "id": "x2AxHes2Crdb"
      },
      "source": [
        "drive.mount('/content/drive', force_remount=True)"
      ],
      "execution_count": null,
      "outputs": []
    },
    {
      "cell_type": "code",
      "metadata": {
        "id": "krbs7mCnNjwx"
      },
      "source": [
        "#!pip install pandas_profiling==2.9.0"
      ],
      "execution_count": null,
      "outputs": []
    },
    {
      "cell_type": "code",
      "metadata": {
        "id": "0XSVncENaaDZ",
        "outputId": "a2117d4a-9b5a-44aa-d066-ae5fa03e7f76",
        "colab": {
          "base_uri": "https://localhost:8080/",
          "height": 34
        }
      },
      "source": [
        "ls /content/"
      ],
      "execution_count": 4,
      "outputs": [
        {
          "output_type": "stream",
          "text": [
            "\u001b[0m\u001b[01;34mdrive\u001b[0m/  \u001b[01;34msample_data\u001b[0m/\n"
          ],
          "name": "stdout"
        }
      ]
    },
    {
      "cell_type": "code",
      "metadata": {
        "id": "dNgLORPOob62",
        "outputId": "06ca91d2-5f1c-4078-c94f-34cc15f176d3",
        "colab": {
          "base_uri": "https://localhost:8080/",
          "height": 34
        }
      },
      "source": [
        "ls /content/drive/My\\ Drive/Colab-Notebooks/data/proj-1/train_1/train/0A5RMYN.female.36.Sagittarius.csv"
      ],
      "execution_count": 5,
      "outputs": [
        {
          "output_type": "stream",
          "text": [
            "'/content/drive/My Drive/Colab-Notebooks/data/proj-1/train_1/train/0A5RMYN.female.36.Sagittarius.csv'\n"
          ],
          "name": "stdout"
        }
      ]
    },
    {
      "cell_type": "markdown",
      "metadata": {
        "id": "Sx7Dtopw4EHE"
      },
      "source": [
        "# Run the below git commands to push the code to github"
      ]
    },
    {
      "cell_type": "markdown",
      "metadata": {
        "id": "MUDgspDtdOZs"
      },
      "source": [
        ""
      ]
    },
    {
      "cell_type": "code",
      "metadata": {
        "id": "5qSF-hJHM5rF",
        "outputId": "a7d8c9f9-86d2-4ce9-a00f-664b35f549d6",
        "colab": {
          "base_uri": "https://localhost:8080/",
          "height": 69
        }
      },
      "source": [
        "!git add .\n",
        "!git commit -m \"Added classifier\"\n",
        "!git push -u origin main"
      ],
      "execution_count": 33,
      "outputs": [
        {
          "output_type": "stream",
          "text": [
            "fatal: not a git repository (or any of the parent directories): .git\n",
            "fatal: not a git repository (or any of the parent directories): .git\n",
            "fatal: not a git repository (or any of the parent directories): .git\n"
          ],
          "name": "stdout"
        }
      ]
    },
    {
      "cell_type": "markdown",
      "metadata": {
        "id": "aylOuPQseUUp"
      },
      "source": [
        "Reading any single csv file in the train dataset to explore"
      ]
    },
    {
      "cell_type": "code",
      "metadata": {
        "id": "QQSe31X0QW02"
      },
      "source": [
        "sample_df=pd.read_csv(\"/content/drive/My Drive/Colab-Notebooks/data/proj-1/train_1/train/0A5RMYN.female.36.Sagittarius.csv\", encoding=\"UTF-8\",sep=\",\", engine='python', header=None, names=[\"ID\",\"Gender\",\"Age\",\"Zodiac Sign\",\"Blog-post\"])"
      ],
      "execution_count": null,
      "outputs": []
    },
    {
      "cell_type": "code",
      "metadata": {
        "id": "MPVgEstWdxSr"
      },
      "source": [
        "sample_df.iloc[:,4]"
      ],
      "execution_count": null,
      "outputs": []
    },
    {
      "cell_type": "code",
      "metadata": {
        "id": "r1oyFNHY0fmR"
      },
      "source": [
        "sample_df['Zodiac Sign']\n",
        "sample_df.iloc[1,0]\n",
        "sample_df.iloc[:,4]\n",
        "sample_df['ID']"
      ],
      "execution_count": null,
      "outputs": []
    },
    {
      "cell_type": "markdown",
      "metadata": {
        "id": "73tb6Ov4erxD"
      },
      "source": [
        "writing the sample dataframe as csv to explore further if req."
      ]
    },
    {
      "cell_type": "code",
      "metadata": {
        "id": "frH9ctHPeixv"
      },
      "source": [
        "sample_df.to_csv(\"/content/drive/My Drive/Colab-Notebooks/data/proj-1/sample_df_3.csv\")"
      ],
      "execution_count": null,
      "outputs": []
    },
    {
      "cell_type": "code",
      "metadata": {
        "id": "rLW7FjvavMjk"
      },
      "source": [
        "!ls -l /content/drive/My\\ Drive/Colab-Notebooks/data/proj-1/train_1/train | wc -l # Printing the # of csv files for train in the directory "
      ],
      "execution_count": null,
      "outputs": []
    },
    {
      "cell_type": "markdown",
      "metadata": {
        "id": "K3OfD-mr4Ppa"
      },
      "source": [
        "# Converting all csv files ( bloggers and posts) into a single Master Data Frame ( 'Age' , 'Gender', 'Zodiac Sign' , 'Blog-post')\n",
        "\n",
        "---\n",
        "\n"
      ]
    },
    {
      "cell_type": "code",
      "metadata": {
        "id": "aoN4zGZDgXJG",
        "cellView": "both"
      },
      "source": [
        "#@title\n",
        "!pwd"
      ],
      "execution_count": null,
      "outputs": []
    },
    {
      "cell_type": "code",
      "metadata": {
        "id": "qRbmQJCj3Zsw",
        "cellView": "both"
      },
      "source": [
        "#@title\n",
        "import glob\n",
        "import os\n",
        "path = r'/content/drive/My Drive/Colab-Notebooks/data/proj-1/train_1/train/'\n",
        "all_csv_files = glob.glob(os.path.join(path, \"*.csv\"))"
      ],
      "execution_count": 6,
      "outputs": []
    },
    {
      "cell_type": "code",
      "metadata": {
        "id": "a4G3914b-KYx",
        "cellView": "both"
      },
      "source": [
        "#@title\n",
        "len(all_csv_files)"
      ],
      "execution_count": null,
      "outputs": []
    },
    {
      "cell_type": "code",
      "metadata": {
        "id": "crUvWaiW7_H9",
        "cellView": "both",
        "outputId": "ecde892a-b761-4bfb-a9a5-736a10583079",
        "colab": {
          "base_uri": "https://localhost:8080/",
          "height": 34
        }
      },
      "source": [
        "#@title\n",
        "csv.field_size_limit(sys.maxsize)"
      ],
      "execution_count": 7,
      "outputs": [
        {
          "output_type": "execute_result",
          "data": {
            "text/plain": [
              "131072"
            ]
          },
          "metadata": {
            "tags": []
          },
          "execution_count": 7
        }
      ]
    },
    {
      "cell_type": "code",
      "metadata": {
        "id": "XluH5fA0W175",
        "cellView": "both",
        "outputId": "965b446b-a412-46fa-d7d5-c698a695910f",
        "colab": {
          "base_uri": "https://localhost:8080/",
          "height": 254
        }
      },
      "source": [
        "#@title\n",
        "df_each_csv_file = []\n",
        "df_from_each_file = (pd.read_csv(each_csv_file, error_bad_lines=False,sep=',', encoding=\"UTF-8\", engine='python', header=None, names=[\"ID\",\"Gender\",\"Age\",\"Zodiac Sign\",\"Blog-post\"]) for each_csv_file in all_csv_files)\n",
        "df_all_csv_file   = pd.concat(df_from_each_file, ignore_index=True, axis=0)"
      ],
      "execution_count": null,
      "outputs": [
        {
          "output_type": "error",
          "ename": "NameError",
          "evalue": "ignored",
          "traceback": [
            "\u001b[0;31m---------------------------------------------------------------------------\u001b[0m",
            "\u001b[0;31mNameError\u001b[0m                                 Traceback (most recent call last)",
            "\u001b[0;32m<ipython-input-1-b03f273fca14>\u001b[0m in \u001b[0;36m<module>\u001b[0;34m()\u001b[0m\n\u001b[1;32m      1\u001b[0m \u001b[0;31m#@title\u001b[0m\u001b[0;34m\u001b[0m\u001b[0;34m\u001b[0m\u001b[0;34m\u001b[0m\u001b[0m\n\u001b[1;32m      2\u001b[0m \u001b[0mdf_each_csv_file\u001b[0m \u001b[0;34m=\u001b[0m \u001b[0;34m[\u001b[0m\u001b[0;34m]\u001b[0m\u001b[0;34m\u001b[0m\u001b[0;34m\u001b[0m\u001b[0m\n\u001b[0;32m----> 3\u001b[0;31m \u001b[0mdf_from_each_file\u001b[0m \u001b[0;34m=\u001b[0m \u001b[0;34m(\u001b[0m\u001b[0mpd\u001b[0m\u001b[0;34m.\u001b[0m\u001b[0mread_csv\u001b[0m\u001b[0;34m(\u001b[0m\u001b[0meach_csv_file\u001b[0m\u001b[0;34m,\u001b[0m \u001b[0merror_bad_lines\u001b[0m\u001b[0;34m=\u001b[0m\u001b[0;32mFalse\u001b[0m\u001b[0;34m,\u001b[0m\u001b[0msep\u001b[0m\u001b[0;34m=\u001b[0m\u001b[0;34m','\u001b[0m\u001b[0;34m,\u001b[0m \u001b[0mencoding\u001b[0m\u001b[0;34m=\u001b[0m\u001b[0;34m\"UTF-8\"\u001b[0m\u001b[0;34m,\u001b[0m \u001b[0mengine\u001b[0m\u001b[0;34m=\u001b[0m\u001b[0;34m'python'\u001b[0m\u001b[0;34m,\u001b[0m \u001b[0mheader\u001b[0m\u001b[0;34m=\u001b[0m\u001b[0;32mNone\u001b[0m\u001b[0;34m,\u001b[0m \u001b[0mnames\u001b[0m\u001b[0;34m=\u001b[0m\u001b[0;34m[\u001b[0m\u001b[0;34m\"ID\"\u001b[0m\u001b[0;34m,\u001b[0m\u001b[0;34m\"Gender\"\u001b[0m\u001b[0;34m,\u001b[0m\u001b[0;34m\"Age\"\u001b[0m\u001b[0;34m,\u001b[0m\u001b[0;34m\"Zodiac Sign\"\u001b[0m\u001b[0;34m,\u001b[0m\u001b[0;34m\"Blog-post\"\u001b[0m\u001b[0;34m]\u001b[0m\u001b[0;34m)\u001b[0m \u001b[0;32mfor\u001b[0m \u001b[0meach_csv_file\u001b[0m \u001b[0;32min\u001b[0m \u001b[0mall_csv_files\u001b[0m\u001b[0;34m)\u001b[0m\u001b[0;34m\u001b[0m\u001b[0;34m\u001b[0m\u001b[0m\n\u001b[0m\u001b[1;32m      4\u001b[0m \u001b[0mdf_all_csv_file\u001b[0m   \u001b[0;34m=\u001b[0m \u001b[0mpd\u001b[0m\u001b[0;34m.\u001b[0m\u001b[0mconcat\u001b[0m\u001b[0;34m(\u001b[0m\u001b[0mdf_from_each_file\u001b[0m\u001b[0;34m,\u001b[0m \u001b[0mignore_index\u001b[0m\u001b[0;34m=\u001b[0m\u001b[0;32mTrue\u001b[0m\u001b[0;34m,\u001b[0m \u001b[0maxis\u001b[0m\u001b[0;34m=\u001b[0m\u001b[0;36m0\u001b[0m\u001b[0;34m)\u001b[0m\u001b[0;34m\u001b[0m\u001b[0;34m\u001b[0m\u001b[0m\n",
            "\u001b[0;31mNameError\u001b[0m: name 'all_csv_files' is not defined"
          ]
        }
      ]
    },
    {
      "cell_type": "markdown",
      "metadata": {
        "id": "Vlv7TiNWSSmS"
      },
      "source": [
        "##**Writing the Master DataFrame to a CSV** "
      ]
    },
    {
      "cell_type": "code",
      "metadata": {
        "id": "4ncXUwXNSHhf",
        "cellView": "both"
      },
      "source": [
        "#@title\n",
        "df_all_csv_file.to_csv(\"/content/drive/My Drive/Colab-Notebooks/data/proj-1/train_1/df_all_csv_file_2.csv\", index=False)"
      ],
      "execution_count": null,
      "outputs": []
    },
    {
      "cell_type": "markdown",
      "metadata": {
        "id": "eZ_u6zNKyX-n"
      },
      "source": [
        "# Data Exploration "
      ]
    },
    {
      "cell_type": "code",
      "metadata": {
        "id": "_Etp6caY5tX-"
      },
      "source": [
        "len(df_all_csv_file)"
      ],
      "execution_count": null,
      "outputs": []
    },
    {
      "cell_type": "code",
      "metadata": {
        "id": "g4oyy5bDmWlp"
      },
      "source": [
        "len(df_master_train)"
      ],
      "execution_count": null,
      "outputs": []
    },
    {
      "cell_type": "code",
      "metadata": {
        "id": "f3yX5YmX5dUy"
      },
      "source": [
        "df_all_csv_file.info()"
      ],
      "execution_count": null,
      "outputs": []
    },
    {
      "cell_type": "code",
      "metadata": {
        "id": "EYXfJPcDma-T"
      },
      "source": [
        "df_master_train.info()"
      ],
      "execution_count": null,
      "outputs": []
    },
    {
      "cell_type": "code",
      "metadata": {
        "id": "U-gAhsvmpdwD"
      },
      "source": [
        "df_all_csv_file.head(5)"
      ],
      "execution_count": null,
      "outputs": []
    },
    {
      "cell_type": "code",
      "metadata": {
        "id": "0Y2js5CKmj3r"
      },
      "source": [
        "df_master_train.head(5)"
      ],
      "execution_count": null,
      "outputs": []
    },
    {
      "cell_type": "code",
      "metadata": {
        "id": "y3u52cq3uYvG"
      },
      "source": [
        "df_all_csv_file.loc()"
      ],
      "execution_count": null,
      "outputs": []
    },
    {
      "cell_type": "code",
      "metadata": {
        "id": "lRyZqCFGvCdJ"
      },
      "source": [
        "len(df_all_csv_file.columns)"
      ],
      "execution_count": null,
      "outputs": []
    },
    {
      "cell_type": "code",
      "metadata": {
        "id": "vpNE0gliHsP6"
      },
      "source": [
        "len(df_all_csv_file.rows)"
      ],
      "execution_count": null,
      "outputs": []
    },
    {
      "cell_type": "code",
      "metadata": {
        "id": "htTqa4DBw97s"
      },
      "source": [
        "df_all_csv_file.describe()"
      ],
      "execution_count": null,
      "outputs": []
    },
    {
      "cell_type": "markdown",
      "metadata": {
        "id": "EbrWQbeTQZJD"
      },
      "source": [
        "## More!! Exploring the master dataframe using Pandas_Profiling"
      ]
    },
    {
      "cell_type": "code",
      "metadata": {
        "id": "rKUCYeohJdka"
      },
      "source": [
        "profile = df_all_csv_file.profile_report(title='Blog Sample report')"
      ],
      "execution_count": null,
      "outputs": []
    },
    {
      "cell_type": "code",
      "metadata": {
        "id": "3KKwsKgDOOO8"
      },
      "source": [
        "profile.to_file(\"/content/drive/My Drive/Colab-Notebooks/data/proj-1/df_all_csv_file_output.html\")"
      ],
      "execution_count": null,
      "outputs": []
    },
    {
      "cell_type": "markdown",
      "metadata": {
        "id": "pysV5DNe42sf"
      },
      "source": [
        "# Splitting this dataset into three dataframes to build Age, Gender and Zodiac_Sign Classifiers"
      ]
    },
    {
      "cell_type": "code",
      "metadata": {
        "id": "o-7AavyLYVdA"
      },
      "source": [
        "df_master_train = pd.read_csv(\"/content/drive/My Drive/Colab-Notebooks/data/proj-1/train_1/df_all_csv_file_2.csv\", sep=',', encoding=\"UTF-8\", engine='python')\n",
        "df_gender = df_master_train.iloc[:,[1,4]]\n",
        "df_age = df_master_train.iloc[:,[2,4]]\n",
        "df_zodiacSign = df_master_train.iloc[:,[3,4]]"
      ],
      "execution_count": 8,
      "outputs": []
    },
    {
      "cell_type": "markdown",
      "metadata": {
        "id": "HQPy69x4ymva"
      },
      "source": [
        "# Gender Classifiers"
      ]
    },
    {
      "cell_type": "markdown",
      "metadata": {
        "id": "mY42jc6py-uJ"
      },
      "source": [
        "df_gender\n",
        "\n",
        "```\n",
        "# This is formatted as code\n",
        "```\n",
        "\n"
      ]
    },
    {
      "cell_type": "code",
      "metadata": {
        "id": "jvgGbOUt1Awx"
      },
      "source": [
        "df_gender.describe"
      ],
      "execution_count": null,
      "outputs": []
    },
    {
      "cell_type": "markdown",
      "metadata": {
        "id": "jNmTfd_W5IM1"
      },
      "source": [
        "Exploring male blog-posts\n"
      ]
    },
    {
      "cell_type": "code",
      "metadata": {
        "id": "Mr4MFzqS1HMK"
      },
      "source": [
        "df_gender_male = df_gender[df_gender['Gender'] == 'male']\n",
        "df_gender_male\n",
        "len(df_gender_male)"
      ],
      "execution_count": null,
      "outputs": []
    },
    {
      "cell_type": "markdown",
      "metadata": {
        "id": "OfUSJM_D5PWl"
      },
      "source": [
        "Exploring female blog-posts"
      ]
    },
    {
      "cell_type": "code",
      "metadata": {
        "id": "EsjyJ-053j7Z"
      },
      "source": [
        "df_gender_female = df_gender[df_gender['Gender'] == 'female']\n",
        "df_gender_female\n",
        "#len(df_gender_female)"
      ],
      "execution_count": null,
      "outputs": []
    },
    {
      "cell_type": "markdown",
      "metadata": {
        "id": "u2lFDsY25VNq"
      },
      "source": [
        "## Naive Bayes"
      ]
    },
    {
      "cell_type": "code",
      "metadata": {
        "id": "xzz6SUI35Z7H"
      },
      "source": [
        "print(\"The below given code will demonstrate the Naive Bayes Classifier\")"
      ],
      "execution_count": null,
      "outputs": []
    },
    {
      "cell_type": "markdown",
      "metadata": {
        "id": "OxDijsCn8iLF"
      },
      "source": [
        "1. To run a Naive Bayes classifier in Scikit Learn, the categories must be numeric. Here, we assign 0 to male and 1 to female "
      ]
    },
    {
      "cell_type": "code",
      "metadata": {
        "id": "CE3rKqdN5qwg",
        "outputId": "1767476f-a889-4763-fca0-5dc381573619",
        "colab": {
          "base_uri": "https://localhost:8080/",
          "height": 121
        }
      },
      "source": [
        "df_gender['label'] = df_gender['Gender'].apply(lambda x: 0 if x=='male' else 1)"
      ],
      "execution_count": 14,
      "outputs": [
        {
          "output_type": "stream",
          "text": [
            "/usr/local/lib/python3.6/dist-packages/ipykernel_launcher.py:1: SettingWithCopyWarning: \n",
            "A value is trying to be set on a copy of a slice from a DataFrame.\n",
            "Try using .loc[row_indexer,col_indexer] = value instead\n",
            "\n",
            "See the caveats in the documentation: https://pandas.pydata.org/pandas-docs/stable/user_guide/indexing.html#returning-a-view-versus-a-copy\n",
            "  \"\"\"Entry point for launching an IPython kernel.\n"
          ],
          "name": "stderr"
        }
      ]
    },
    {
      "cell_type": "code",
      "metadata": {
        "id": "nmwj4N5Z9w7w"
      },
      "source": [
        "df_gender[df_gender['Gender']=='female']"
      ],
      "execution_count": null,
      "outputs": []
    },
    {
      "cell_type": "code",
      "metadata": {
        "id": "YQCwFnvB-Itg"
      },
      "source": [
        "df_gender[df_gender['Gender']=='male']"
      ],
      "execution_count": null,
      "outputs": []
    },
    {
      "cell_type": "markdown",
      "metadata": {
        "id": "0K2xdVMt_UTk"
      },
      "source": [
        "2. Split data into training and testing sets "
      ]
    },
    {
      "cell_type": "code",
      "metadata": {
        "id": "w6Dm6ELv_gSa"
      },
      "source": [
        "from sklearn.model_selection import train_test_split\n",
        "X_train, X_test, y_train, y_test = train_test_split(df_gender['Blog-post'], df_gender['label'], random_state=1)"
      ],
      "execution_count": 15,
      "outputs": []
    },
    {
      "cell_type": "code",
      "metadata": {
        "id": "YOkY8Rvbrvw2"
      },
      "source": [
        "len(X_train)"
      ],
      "execution_count": null,
      "outputs": []
    },
    {
      "cell_type": "code",
      "metadata": {
        "id": "qqqBmHDvr-TB"
      },
      "source": [
        "len(X_test)"
      ],
      "execution_count": null,
      "outputs": []
    },
    {
      "cell_type": "markdown",
      "metadata": {
        "id": "Ig3LylzfElZq"
      },
      "source": [
        "3. Word Count Vectors"
      ]
    },
    {
      "cell_type": "code",
      "metadata": {
        "id": "5ijMN2iLEoQo",
        "outputId": "b7e2eb3c-4667-4891-bdf2-58fa06ae0ec4",
        "colab": {
          "base_uri": "https://localhost:8080/",
          "height": 34
        }
      },
      "source": [
        "start=time.time()\n",
        "from sklearn.feature_extraction.text import CountVectorizer\n",
        "cv = CountVectorizer(strip_accents='ascii', token_pattern=u'(?ui)\\\\b\\\\w*[a-z]+\\\\w*\\\\b', lowercase=True, stop_words='english')\n",
        "X_train_cv = cv.fit_transform(X_train)\n",
        "X_test_cv = cv.transform(X_test)\n",
        "elapsed=time.time()\n",
        "print(elapsed-start)"
      ],
      "execution_count": 17,
      "outputs": [
        {
          "output_type": "stream",
          "text": [
            "73.54530429840088\n"
          ],
          "name": "stdout"
        }
      ]
    },
    {
      "cell_type": "code",
      "metadata": {
        "id": "AMCCjb-FoXUI"
      },
      "source": [
        ""
      ],
      "execution_count": null,
      "outputs": []
    },
    {
      "cell_type": "markdown",
      "metadata": {
        "id": "H6ibEku4n-lo"
      },
      "source": [
        "4. Model Fitting"
      ]
    },
    {
      "cell_type": "code",
      "metadata": {
        "id": "F1M1lFyQoCLs"
      },
      "source": [
        "from sklearn.naive_bayes import MultinomialNB\n",
        "naive_bayes = MultinomialNB()\n",
        "naive_bayes.fit(X_train_cv, y_train)\n",
        "predictions = naive_bayes.predict(X_test_cv)"
      ],
      "execution_count": 18,
      "outputs": []
    },
    {
      "cell_type": "markdown",
      "metadata": {
        "id": "nKq-6zKxoJZs"
      },
      "source": [
        "5. Results : Accuracy Score , Prediction Score and Recall Score"
      ]
    },
    {
      "cell_type": "code",
      "metadata": {
        "id": "mhXrPVohoP9h",
        "outputId": "dfaf1fa9-d1ac-4df7-e6d6-8c2b6eb36023",
        "colab": {
          "base_uri": "https://localhost:8080/",
          "height": 69
        }
      },
      "source": [
        "from sklearn.metrics import accuracy_score, precision_score, recall_score\n",
        "print('Accuracy score: ', accuracy_score(y_test, predictions))\n",
        "print('Precision score: ', precision_score(y_test, predictions))\n",
        "print('Recall score: ', recall_score(y_test, predictions))"
      ],
      "execution_count": 19,
      "outputs": [
        {
          "output_type": "stream",
          "text": [
            "Accuracy score:  0.6785249044174495\n",
            "Precision score:  0.6398128504318836\n",
            "Recall score:  0.7486700948665662\n"
          ],
          "name": "stdout"
        }
      ]
    },
    {
      "cell_type": "markdown",
      "metadata": {
        "id": "I9jW4NAhotM3"
      },
      "source": [
        "        Confusion Matrix"
      ]
    },
    {
      "cell_type": "code",
      "metadata": {
        "id": "5N1w6eEYo16I",
        "outputId": "8295a131-0d48-4629-d8a4-a62fc3d0390e",
        "colab": {
          "base_uri": "https://localhost:8080/",
          "height": 34
        }
      },
      "source": [
        "from sklearn.metrics import confusion_matrix\n",
        "import matplotlib.pyplot as plt\n",
        "import seaborn as sns\n",
        "cm = confusion_matrix(y_test, predictions)\n",
        "sns.heatmap(cm, square=True, annot=True, cmap='RdBu', cbar=False,\n",
        "xticklabels=['female', 'male'], yticklabels=['female', 'male'])\n",
        "plt.xlabel('true label')\n",
        "plt.ylabel('predicted label')"
      ],
      "execution_count": 20,
      "outputs": [
        {
          "output_type": "execute_result",
          "data": {
            "text/plain": [
              "Text(91.68, 0.5, 'predicted label')"
            ]
          },
          "metadata": {
            "tags": []
          },
          "execution_count": 20
        }
      ]
    },
    {
      "cell_type": "markdown",
      "metadata": {
        "id": "8jTeQqs5v_9X"
      },
      "source": [
        "6. Investigating the model's misses"
      ]
    },
    {
      "cell_type": "code",
      "metadata": {
        "id": "hka1L5TVqxUD"
      },
      "source": [
        "testing_predictions = []\n",
        "for i in range(len(X_test)):\n",
        "    if predictions[i] == 1:\n",
        "        testing_predictions.append('male')\n",
        "    else:\n",
        "        testing_predictions.append('female')\n",
        "check_df = pd.DataFrame({'actual_label': list(y_test), 'prediction': testing_predictions, 'Blog-post':list(X_test)})\n",
        "check_df.replace(to_replace=0, value='female', inplace=True)\n",
        "check_df.replace(to_replace=1, value='male', inplace=True)"
      ],
      "execution_count": 21,
      "outputs": []
    },
    {
      "cell_type": "code",
      "metadata": {
        "id": "6pfyumklrYaH"
      },
      "source": [
        "check_df"
      ],
      "execution_count": null,
      "outputs": []
    },
    {
      "cell_type": "markdown",
      "metadata": {
        "id": "sdyKQwD2Fh-0"
      },
      "source": [
        "###### Data Frame of the word count vectors ( for further data exploration)"
      ]
    },
    {
      "cell_type": "code",
      "metadata": {
        "id": "dllDjGphFtnh"
      },
      "source": [
        "word_freq_df = pd.DataFrame(X_train_cv.toarray(), columns=cv.get_feature_names())\n",
        "top_words_df = pd.DataFrame(word_freq.sum()).sort_values(0, ascending=False)"
      ],
      "execution_count": null,
      "outputs": []
    },
    {
      "cell_type": "markdown",
      "metadata": {
        "id": "WFB2b2yJ4dH7"
      },
      "source": [
        "## SVM"
      ]
    },
    {
      "cell_type": "code",
      "metadata": {
        "id": "J4Edt5ny4fsL"
      },
      "source": [
        "from sklearn import model_selection, naive_bayes, svm\n",
        "from sklearn.metrics import accuracy_score"
      ],
      "execution_count": 24,
      "outputs": []
    },
    {
      "cell_type": "markdown",
      "metadata": {
        "id": "8Tcdnsk6431x"
      },
      "source": [
        "1. Model Fitting"
      ]
    },
    {
      "cell_type": "code",
      "metadata": {
        "id": "ooC4W6OiLmGH",
        "outputId": "0bf45403-756a-4df1-8f28-29376d97934f",
        "colab": {
          "base_uri": "https://localhost:8080/",
          "height": 34
        }
      },
      "source": [
        "type(X_train_cv)\n",
        "X_train_cv_small.shape"
      ],
      "execution_count": 27,
      "outputs": [
        {
          "output_type": "execute_result",
          "data": {
            "text/plain": [
              "(283262, 403012)"
            ]
          },
          "metadata": {
            "tags": []
          },
          "execution_count": 27
        }
      ]
    },
    {
      "cell_type": "code",
      "metadata": {
        "id": "b7AvSlJBNIuC"
      },
      "source": [
        "X_train_cv_small=X_train_cv[:10000]\n",
        "y_train_small=y_train[:10000]\n",
        "X_test_cv_small=X_test_cv[:10000]\n",
        "y_test_small=y_test[:10000]"
      ],
      "execution_count": 28,
      "outputs": []
    },
    {
      "cell_type": "code",
      "metadata": {
        "id": "CEMNCvcZ45lv",
        "outputId": "c5ed39fc-37d7-470e-c389-b4ec5f9ea09f",
        "colab": {
          "base_uri": "https://localhost:8080/",
          "height": 34
        }
      },
      "source": [
        "start_time=time.time()\n",
        "SVM = svm.SVC(C=1.0, kernel='linear', degree=3, gamma='auto', verbose=True)\n",
        "SVM.fit(X_train_cv_small,y_train_small)\n",
        "elapsed_time=time.time()\n",
        "print(elapsed_time-start_time)"
      ],
      "execution_count": 30,
      "outputs": [
        {
          "output_type": "stream",
          "text": [
            "[LibSVM]196.6964032649994\n"
          ],
          "name": "stdout"
        }
      ]
    },
    {
      "cell_type": "markdown",
      "metadata": {
        "id": "NFwqYjq66RbV"
      },
      "source": [
        "2. Model Prediction"
      ]
    },
    {
      "cell_type": "code",
      "metadata": {
        "id": "8zGKtFti6UJg"
      },
      "source": [
        "predictions_SVM = SVM.predict(X_test_cv_small)"
      ],
      "execution_count": 31,
      "outputs": []
    },
    {
      "cell_type": "markdown",
      "metadata": {
        "id": "KDZYhYeN605t"
      },
      "source": [
        "3. Results : Accuracy"
      ]
    },
    {
      "cell_type": "code",
      "metadata": {
        "id": "63K9U0Il64Y6",
        "outputId": "d4856fca-67b8-470c-96b1-b35e637b7047",
        "colab": {
          "base_uri": "https://localhost:8080/",
          "height": 34
        }
      },
      "source": [
        "print(\"SVM Accuracy Score -> \",accuracy_score(predictions_SVM, y_test_small)*100)"
      ],
      "execution_count": 32,
      "outputs": [
        {
          "output_type": "stream",
          "text": [
            "SVM Accuracy Score ->  59.68\n"
          ],
          "name": "stdout"
        }
      ]
    },
    {
      "cell_type": "markdown",
      "metadata": {
        "id": "Ktdxsfpty3F2"
      },
      "source": [
        "# Age Classifiers\n"
      ]
    },
    {
      "cell_type": "code",
      "metadata": {
        "id": "TIOElgcF9vac"
      },
      "source": [
        "df_age"
      ],
      "execution_count": null,
      "outputs": []
    },
    {
      "cell_type": "code",
      "metadata": {
        "id": "38q34qDWwTu2"
      },
      "source": [
        "set(df_age['Age'])"
      ],
      "execution_count": null,
      "outputs": []
    },
    {
      "cell_type": "code",
      "metadata": {
        "id": "A47sDtPckV32"
      },
      "source": [
        "df_age1 = df_age.copy"
      ],
      "execution_count": null,
      "outputs": []
    },
    {
      "cell_type": "markdown",
      "metadata": {
        "id": "sKNR6j8MmDMC"
      },
      "source": [
        "lambda x : x*2 if x < 10 else (x*3 if x < 20 else x)"
      ]
    },
    {
      "cell_type": "code",
      "metadata": {
        "id": "heWdpiD_kTWQ"
      },
      "source": [
        "df_age['label'] = df_age['Age'].apply(lambda x: 0 if (int(x)>=0 and int(x)<=19) else ( 1 if (int(x)>=20 and int(x)<=29) else 2 ) )"
      ],
      "execution_count": null,
      "outputs": []
    },
    {
      "cell_type": "code",
      "metadata": {
        "id": "d2S07NgJoNiA"
      },
      "source": [
        "df_age[df_age['label']==2]"
      ],
      "execution_count": null,
      "outputs": []
    },
    {
      "cell_type": "markdown",
      "metadata": {
        "id": "vfQl6OXiop1F"
      },
      "source": [
        "  2. Split data into training and testing sets"
      ]
    },
    {
      "cell_type": "code",
      "metadata": {
        "id": "SQNud9HkovSA"
      },
      "source": [
        "from sklearn.model_selection import train_test_split\n",
        "X_train_age, X_test_age, y_train_age, y_test_age = train_test_split(df_age['Blog-post'], df_age['label'], random_state=1)\n",
        "\n",
        "len(X_train_age)\n",
        "\n",
        "len(X_test_age)"
      ],
      "execution_count": null,
      "outputs": []
    },
    {
      "cell_type": "markdown",
      "metadata": {
        "id": "bivxvHcxpRMG"
      },
      "source": [
        "3. Word Count Vectors"
      ]
    },
    {
      "cell_type": "code",
      "metadata": {
        "id": "5TSfjFA3pGLA"
      },
      "source": [
        "from sklearn.feature_extraction.text import CountVectorizer\n",
        "cv = CountVectorizer(strip_accents='ascii', token_pattern=u'(?ui)\\\\b\\\\w*[a-z]+\\\\w*\\\\b', lowercase=True, stop_words='english')\n",
        "X_train_age_cv = cv.fit_transform(X_train_age)\n",
        "X_test_age_cv = cv.transform(X_test_age)"
      ],
      "execution_count": null,
      "outputs": []
    },
    {
      "cell_type": "markdown",
      "metadata": {
        "id": "NEsntb4GpYJu"
      },
      "source": [
        "4. Model Fitting"
      ]
    },
    {
      "cell_type": "code",
      "metadata": {
        "id": "8K2e57-ypaSj"
      },
      "source": [
        "from sklearn.naive_bayes import MultinomialNB\n",
        "naive_bayes = MultinomialNB()\n",
        "naive_bayes.fit(X_train_age_cv, y_train_age)\n",
        "predictions = naive_bayes.predict(X_test_age_cv)"
      ],
      "execution_count": null,
      "outputs": []
    },
    {
      "cell_type": "markdown",
      "metadata": {
        "id": "eeYM4_THpkuO"
      },
      "source": [
        "5. Results : Accuracy Score, Prediction Score and Recall Score"
      ]
    },
    {
      "cell_type": "code",
      "metadata": {
        "id": "6dHCz0MqpqWI"
      },
      "source": [
        "from sklearn.metrics import accuracy_score, precision_score, recall_score\n",
        "print('Accuracy score: ', accuracy_score(y_test_age, predictions))\n",
        "#print('Precision score: ', precision_score(y_test_age, predictions))\n",
        "#print('Recall score: ', recall_score(y_test_age, predictions))"
      ],
      "execution_count": null,
      "outputs": []
    },
    {
      "cell_type": "markdown",
      "metadata": {
        "id": "ULyTBL3gqef-"
      },
      "source": [
        "Confusion Matrix"
      ]
    },
    {
      "cell_type": "code",
      "metadata": {
        "id": "8tYVqV_0qgxg"
      },
      "source": [
        "from sklearn.metrics import confusion_matrix\n",
        "import matplotlib.pyplot as plt\n",
        "import seaborn as sns\n",
        "cm = confusion_matrix(y_test, predictions)\n",
        "sns.heatmap(cm, square=True, annot=True, cmap='RdBu', cbar=False,\n",
        "xticklabels=['Age[0-19]', 'Age[20-29]', 'Age[30+]'], yticklabels=['Age[0-19]', 'Age[20-29]', 'Age[30+]'])\n",
        "plt.xlabel('true label')\n",
        "plt.ylabel('predicted label')"
      ],
      "execution_count": null,
      "outputs": []
    },
    {
      "cell_type": "markdown",
      "metadata": {
        "id": "_RIMSswXywKB"
      },
      "source": [
        "# Zodiac Sign Classifiers\n"
      ]
    },
    {
      "cell_type": "code",
      "metadata": {
        "id": "p00L3Zepv5je"
      },
      "source": [
        "df_zodiacSign['Zodiac Sign'].head(100)"
      ],
      "execution_count": null,
      "outputs": []
    },
    {
      "cell_type": "markdown",
      "metadata": {
        "id": "LCRa4z2Ct71n"
      },
      "source": [
        "### Naive Bayes Classifier"
      ]
    },
    {
      "cell_type": "markdown",
      "metadata": {
        "id": "VTLR6-fLt_3V"
      },
      "source": [
        "Assigning Labels"
      ]
    },
    {
      "cell_type": "code",
      "metadata": {
        "id": "lUAuSF5HuCzj"
      },
      "source": [
        "#df_zodiacSign['label'] = df_zodiacSign['Zodiac Sign'].apply(lambda x: 0 if x=='Aquarius' else ( 1 if x=='Aries' else ( 2 if x=='Cancer') else (3 if x=='Capricorn') else (4 if x=='Gemini') else (5 if x=='Leo') else 6 )\n",
        "df_zodiacSign['label'] = df_zodiacSign['Zodiac Sign'].apply(lambda x: 0 if x=='Aquarius' else ( 1 if x=='Aries' else ( 2 if x=='Cancer' else (3 if x=='Capricorn' else ( 4 if x=='Gemini' else ( 5 if x=='Leo' else( 6 if x=='Libra' else ( 7 if x=='Pisces' else ( 8 if x=='Sagittarius' else ( 9 if x=='Scorpio' else ( 10 if x=='Taurus' else 11)))))))))))"
      ],
      "execution_count": null,
      "outputs": []
    },
    {
      "cell_type": "code",
      "metadata": {
        "id": "9Hj3n51IwkFu"
      },
      "source": [
        "df_ZodiacSign_Aquarius=df_zodiacSign[df_zodiacSign['Zodiac Sign']=='Aquarius']"
      ],
      "execution_count": null,
      "outputs": []
    },
    {
      "cell_type": "code",
      "metadata": {
        "id": "pnH6sIR2x4i5"
      },
      "source": [
        "df_ZodiacSign_Aries=df_zodiacSign[df_zodiacSign['Zodiac Sign']=='Aries']"
      ],
      "execution_count": null,
      "outputs": []
    },
    {
      "cell_type": "code",
      "metadata": {
        "id": "mzRWgypqx5DN"
      },
      "source": [
        "df_ZodiacSign_Cancer=df_zodiacSign[df_zodiacSign['Zodiac Sign']=='Cancer']"
      ],
      "execution_count": null,
      "outputs": []
    },
    {
      "cell_type": "code",
      "metadata": {
        "id": "G98L5n7Yx5bS"
      },
      "source": [
        "df_ZodiacSign_Capricorn=df_zodiacSign[df_zodiacSign['Zodiac Sign']=='Capricorn']"
      ],
      "execution_count": null,
      "outputs": []
    },
    {
      "cell_type": "code",
      "metadata": {
        "id": "9cnyrZa9x5wI"
      },
      "source": [
        "df_ZodiacSign_Gemini=df_zodiacSign[df_zodiacSign['Zodiac Sign']=='Gemini']"
      ],
      "execution_count": null,
      "outputs": []
    },
    {
      "cell_type": "code",
      "metadata": {
        "id": "evX6BIQdx6D2"
      },
      "source": [
        "df_ZodiacSign_Leo=df_zodiacSign[df_zodiacSign['Zodiac Sign']=='Leo']"
      ],
      "execution_count": null,
      "outputs": []
    },
    {
      "cell_type": "code",
      "metadata": {
        "id": "FhMSSL1fx6Vx"
      },
      "source": [
        "df_ZodiacSign_Libra=df_zodiacSign[df_zodiacSign['Zodiac Sign']=='Libra']"
      ],
      "execution_count": null,
      "outputs": []
    },
    {
      "cell_type": "code",
      "metadata": {
        "id": "y4SsZVnZx6uh"
      },
      "source": [
        "df_ZodiacSign_Pisces=df_zodiacSign[df_zodiacSign['Zodiac Sign']=='Pisces']"
      ],
      "execution_count": null,
      "outputs": []
    },
    {
      "cell_type": "code",
      "metadata": {
        "id": "3iloA2yQx7Bg"
      },
      "source": [
        "df_ZodiacSign_Sagittarius=df_zodiacSign[df_zodiacSign['Zodiac Sign']=='Sagittarius']"
      ],
      "execution_count": null,
      "outputs": []
    },
    {
      "cell_type": "code",
      "metadata": {
        "id": "dhN2BN-vyUVS"
      },
      "source": [
        "df_ZodiacSign_Scorpio=df_zodiacSign[df_zodiacSign['Zodiac Sign']=='Scorpio']"
      ],
      "execution_count": null,
      "outputs": []
    },
    {
      "cell_type": "code",
      "metadata": {
        "id": "iMXbIw40yZOA"
      },
      "source": [
        "df_ZodiacSign_Taurus=df_zodiacSign[df_zodiacSign['Zodiac Sign']=='Taurus']"
      ],
      "execution_count": null,
      "outputs": []
    },
    {
      "cell_type": "code",
      "metadata": {
        "id": "fz6KbIraya9z"
      },
      "source": [
        "df_ZodiacSign_Virgo=df_zodiacSign[df_zodiacSign['Zodiac Sign']=='Virgo']"
      ],
      "execution_count": null,
      "outputs": []
    },
    {
      "cell_type": "markdown",
      "metadata": {
        "id": "HP01PdzN0HPC"
      },
      "source": [
        "2. Split data into training and testing sets"
      ]
    },
    {
      "cell_type": "code",
      "metadata": {
        "id": "L3qMrP060Knf"
      },
      "source": [
        "from sklearn.model_selection import train_test_split\n",
        "X_train_Zodiac, X_test_Zodiac, y_train_Zodiac, y_test_Zodiac = train_test_split(df_gender['Blog-post'], df_zodiacSign['label'], random_state=1)"
      ],
      "execution_count": null,
      "outputs": []
    },
    {
      "cell_type": "markdown",
      "metadata": {
        "id": "iaUTZcRP0YwD"
      },
      "source": [
        "3. Word Count Vectors"
      ]
    },
    {
      "cell_type": "code",
      "metadata": {
        "id": "aW5_1Tel0a5s"
      },
      "source": [
        "from sklearn.feature_extraction.text import CountVectorizer\n",
        "cv = CountVectorizer(strip_accents='ascii', token_pattern=u'(?ui)\\\\b\\\\w*[a-z]+\\\\w*\\\\b', lowercase=True, stop_words='english')\n",
        "X_train_Zodiac_cv = cv.fit_transform(X_train_Zodiac)\n",
        "X_test_Zodiac_cv = cv.transform(X_test_Zodiac)"
      ],
      "execution_count": null,
      "outputs": []
    },
    {
      "cell_type": "markdown",
      "metadata": {
        "id": "1fNseHX10rEk"
      },
      "source": [
        "4. Model Fitting"
      ]
    },
    {
      "cell_type": "code",
      "metadata": {
        "id": "bMcHhqOJ0tHn"
      },
      "source": [
        "from sklearn.naive_bayes import MultinomialNB\n",
        "naive_bayes = MultinomialNB()\n",
        "naive_bayes.fit(X_train_Zodiac_cv, y_train_Zodiac)\n",
        "predictions = naive_bayes.predict(X_test_Zodiac_cv)"
      ],
      "execution_count": null,
      "outputs": []
    },
    {
      "cell_type": "markdown",
      "metadata": {
        "id": "vM61CMmS06gg"
      },
      "source": [
        "5. Results : Accuracy"
      ]
    },
    {
      "cell_type": "code",
      "metadata": {
        "id": "_VKyvHux0960"
      },
      "source": [
        "\n",
        "from sklearn.metrics import accuracy_score, precision_score, recall_score\n",
        "print('Accuracy score: ', accuracy_score(y_test_Zodiac, predictions))\n",
        "#print('Precision score: ', precision_score(y_test, predictions))\n",
        "#print('Recall score: ', recall_score(y_test, predictions))"
      ],
      "execution_count": null,
      "outputs": []
    }
  ]
}